{
 "cells": [
  {
   "cell_type": "code",
   "execution_count": 20,
   "metadata": {},
   "outputs": [
    {
     "name": "stdout",
     "output_type": "stream",
     "text": [
      "hello world\n",
      "hello world\n",
      "hello world\n"
     ]
    }
   ],
   "source": [
    "# 1.1\n",
    "\n",
    "print(\"hello world\")\n",
    "print(\"hello world\")\n",
    "print(\"hello world\")"
   ]
  },
  {
   "cell_type": "code",
   "execution_count": 19,
   "metadata": {},
   "outputs": [
    {
     "name": "stdout",
     "output_type": "stream",
     "text": [
      "Sum of x,y,z =  10\n",
      "Sum of x,y,z =  10\n"
     ]
    }
   ],
   "source": [
    "# 2.1\n",
    "\n",
    "x = 2\n",
    "y = 4\n",
    "z = 4\n",
    "c = x+y+z\n",
    "print(\"Sum of x,y,z = \",c)\n",
    "\n",
    "x = 2\n",
    "y = 4\n",
    "z = 4\n",
    "print(\"Sum of x,y,z = \",x+y+z)"
   ]
  },
  {
   "cell_type": "code",
   "execution_count": 18,
   "metadata": {},
   "outputs": [
    {
     "name": "stdout",
     "output_type": "stream",
     "text": [
      "x+y =  Hemant Jindal\n"
     ]
    }
   ],
   "source": [
    "# 2.2\n",
    "\n",
    "x = \"Hemant\"\n",
    "y= \" Jindal\"\n",
    "print(\"x+y = \",x+y)\n",
    "\n",
    "i = 5\n",
    "while i <= 3:\n",
    "    print(i)\n",
    "    i = i+1\n"
   ]
  },
  {
   "cell_type": "code",
   "execution_count": 17,
   "metadata": {},
   "outputs": [
    {
     "name": "stdout",
     "output_type": "stream",
     "text": [
      "11 * 1 = 11\n",
      "11 * 2 = 22\n",
      "11 * 3 = 33\n",
      "11 * 4 = 44\n",
      "11 * 5 = 55\n",
      "11 * 6 = 66\n",
      "11 * 7 = 77\n",
      "11 * 8 = 88\n",
      "11 * 9 = 99\n",
      "11 * 10 = 110\n",
      "range(10)        -->  [0, 1, 2, 3, 4, 5, 6, 7, 8, 9]\n",
      "range(10,20)     -->  [10, 11, 12, 13, 14, 15, 16, 17, 18, 19]\n",
      "range(0,20,2)    -->  [0, 2, 4, 6, 8, 10, 12, 14, 16, 18]\n",
      "range(-10,-20,2) -->  []\n",
      "range(-10,-20,-2)-->  [-10, -12, -14, -16, -18]\n"
     ]
    }
   ],
   "source": [
    "# 4.1 \n",
    "\n",
    "a = int(input(\"Enter the number for table: \"))\n",
    "\n",
    "for i in range(1, 11):\n",
    "    print(f\"{a} * {i} = {a * i}\")\n",
    "\n",
    "\n",
    "print(\"range(10)        --> \", list(range(10)))\n",
    "print(\"range(10,20)     --> \", list(range(10, 20)))\n",
    "print(\"range(0,20,2)    --> \", list(range(0, 20, 2)))\n",
    "print(\"range(-10,-20,2) --> \", list(range(-10, -20, 2)))\n",
    "print(\"range(-10,-20,-2)--> \", list(range(-10, -20, -2)))\n"
   ]
  },
  {
   "cell_type": "code",
   "execution_count": 16,
   "metadata": {},
   "outputs": [
    {
     "name": "stdout",
     "output_type": "stream",
     "text": [
      "sum of numbers are  36\n"
     ]
    }
   ],
   "source": [
    "# 4.3\n",
    "\n",
    "s = 0 \n",
    "n = int(input(\"Enter the number :\"))\n",
    "for i in range(1,n):\n",
    "    s=s+i\n",
    "print(\"sum of numbers are \",s)\n"
   ]
  },
  {
   "cell_type": "code",
   "execution_count": 15,
   "metadata": {},
   "outputs": [
    {
     "name": "stdout",
     "output_type": "stream",
     "text": [
      "9 is greater\n"
     ]
    }
   ],
   "source": [
    "# 5.1\n",
    " \n",
    "a = int(input(\"Enter the value of a : \"))\n",
    "b = int(input(\"Enter the value of b : \"))\n",
    "c = int(input(\"enter the value of c : \"))\n",
    "\n",
    "if a > b and a>c:\n",
    "          print(a,\"is greater\")\n",
    "elif b > a and b>c :\n",
    "       print(b,\"is greater\")\n",
    "\n",
    "else :\n",
    "        print(c,\"is greater\")\n"
   ]
  },
  {
   "cell_type": "code",
   "execution_count": 14,
   "metadata": {},
   "outputs": [
    {
     "name": "stdout",
     "output_type": "stream",
     "text": [
      "sum =  0\n"
     ]
    }
   ],
   "source": [
    "# 5.2\n",
    "\n",
    "n = int(input(\"Enter the value for n : \"))\n",
    "s =0 \n",
    "for i in range(1,n):\n",
    "    if i%7 == 0 and i%9 ==0:\n",
    "        s=s+i \n",
    "print(\"sum = \",s)\n"
   ]
  },
  {
   "cell_type": "code",
   "execution_count": 13,
   "metadata": {},
   "outputs": [
    {
     "name": "stdout",
     "output_type": "stream",
     "text": [
      "The sum of all prime numbers from 1 to 20 is: 77\n"
     ]
    }
   ],
   "source": [
    "# 5.3\n",
    "\n",
    "n = int(input(\"Enter a number n: \"))\n",
    "total = 0\n",
    "\n",
    "for num in range(2, n + 1):\n",
    "    for i in range(2, num):\n",
    "        if num % i == 0:\n",
    "            break\n",
    "    else:\n",
    "        total += num\n",
    "\n",
    "print(\"The sum of all prime numbers from 1 to\", n, \"is:\", total)"
   ]
  },
  {
   "cell_type": "code",
   "execution_count": 12,
   "metadata": {},
   "outputs": [
    {
     "name": "stdout",
     "output_type": "stream",
     "text": [
      "Sum of odd numbers from 1 to 9: 25\n"
     ]
    }
   ],
   "source": [
    "# 6.1\n",
    "\n",
    "\n",
    "def oddnumber(n):\n",
    "    s = 0\n",
    "    for i in range(1, n + 1):\n",
    "        if i % 2 != 0:\n",
    "            s += i\n",
    "    return s\n",
    "\n",
    "n = int(input(\"Enter the value for n: \"))\n",
    "result = oddnumber(n)\n",
    "print(f\"Sum of odd numbers from 1 to {n}: {result}\")"
   ]
  },
  {
   "cell_type": "code",
   "execution_count": 11,
   "metadata": {},
   "outputs": [
    {
     "name": "stdout",
     "output_type": "stream",
     "text": [
      "Sum of prime numbers from 1 to 100: 1060\n"
     ]
    }
   ],
   "source": [
    "# 6.2\n",
    "\n",
    "def sum_of_primes(n):\n",
    "    total = 0\n",
    "    for num in range(2, n + 1):\n",
    "        is_prime = True\n",
    "        for i in range(2, int(num**0.5) + 1):\n",
    "            if num % i == 0:\n",
    "                is_prime = False\n",
    "                break\n",
    "        if is_prime:\n",
    "            total += num\n",
    "    return total\n",
    "\n",
    "n = int(input(\"Enter a number n: \"))\n",
    "result = sum_of_primes(n)\n",
    "print(f\"Sum of prime numbers from 1 to {n}: {result}\")"
   ]
  }
 ],
 "metadata": {
  "kernelspec": {
   "display_name": "Python 3",
   "language": "python",
   "name": "python3"
  },
  "language_info": {
   "codemirror_mode": {
    "name": "ipython",
    "version": 3
   },
   "file_extension": ".py",
   "mimetype": "text/x-python",
   "name": "python",
   "nbconvert_exporter": "python",
   "pygments_lexer": "ipython3",
   "version": "3.13.1"
  }
 },
 "nbformat": 4,
 "nbformat_minor": 2
}

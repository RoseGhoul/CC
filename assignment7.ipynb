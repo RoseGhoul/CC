{
 "cells": [
  {
   "cell_type": "code",
   "execution_count": null,
   "metadata": {},
   "outputs": [],
   "source": []
  },
  {
   "cell_type": "code",
   "execution_count": 2,
   "metadata": {},
   "outputs": [],
   "source": [
    "import numpy as np\n",
    "import pandas as pd\n",
    "import matplotlib.pyplot as pl\n"
   ]
  },
  {
   "cell_type": "code",
   "execution_count": 3,
   "metadata": {},
   "outputs": [],
   "source": [
    "# PART 1\n",
    "\n",
    "random_seed = 102316092 \n",
    "np.random.seed(random_seed)"
   ]
  },
  {
   "cell_type": "code",
   "execution_count": 4,
   "metadata": {},
   "outputs": [],
   "source": [
    "# 2\n",
    "months = [\"Jan\", \"Feb\", \"Mar\", \"Apr\", \"May\", \"Jun\", \"Jul\", \"Aug\", \"Sep\", \"Oct\", \"Nov\", \"Dec\"]\n",
    "categories = [\"Electronics\", \"Clothing\", \"Home & Kitchen\", \"Sports\"]\n",
    "sales_data = np.random.randint(1000, 5000, size=(12, 4))"
   ]
  },
  {
   "cell_type": "code",
   "execution_count": 5,
   "metadata": {},
   "outputs": [],
   "source": [
    "# 3\n",
    "df = pd.DataFrame(sales_data, columns=categories, index=months)\n",
    "df.index.name = \"Month\""
   ]
  },
  {
   "cell_type": "code",
   "execution_count": 6,
   "metadata": {},
   "outputs": [
    {
     "name": "stdout",
     "output_type": "stream",
     "text": [
      "       Electronics  Clothing  Home & Kitchen  Sports\n",
      "Month                                               \n",
      "Jan           1482      1030            2525    1990\n",
      "Feb           3797      3340            1935    1308\n",
      "Mar           4989      4900            3490    4065\n",
      "Apr           1679      1668            4703    3105\n",
      "May           4972      3547            4323    4140\n",
      "       Electronics     Clothing  Home & Kitchen       Sports\n",
      "count    12.000000    12.000000       12.000000    12.000000\n",
      "mean   3157.416667  2672.333333     3578.250000  3041.583333\n",
      "std    1448.771420  1329.028034     1021.566633  1213.110387\n",
      "min    1128.000000  1030.000000     1935.000000  1098.000000\n",
      "25%    1960.250000  1628.000000     2527.250000  2168.500000\n",
      "50%    3304.000000  2568.000000     4124.000000  3272.500000\n",
      "75%    4396.000000  3559.250000     4320.000000  4083.750000\n",
      "max    4989.000000  4900.000000     4703.000000  4698.000000\n"
     ]
    }
   ],
   "source": [
    "# PART 2\n",
    "# 1\n",
    "print(df.head())\n",
    "print(df.describe())\n"
   ]
  },
  {
   "cell_type": "code",
   "execution_count": 7,
   "metadata": {},
   "outputs": [],
   "source": [
    "# 2 \n",
    "df[\"Total Sales\"] = df.sum(axis=1)\n",
    "category_totals = df[categories].sum()"
   ]
  },
  {
   "cell_type": "code",
   "execution_count": 8,
   "metadata": {},
   "outputs": [],
   "source": [
    "# 3\n",
    "growth_rates = df[categories].pct_change().mean()\n",
    "\n",
    "# 4\n",
    "df[\"Growth Rate\"] = df[\"Total Sales\"].pct_change() * 100\n"
   ]
  },
  {
   "cell_type": "code",
   "execution_count": 9,
   "metadata": {},
   "outputs": [
    {
     "ename": "NameError",
     "evalue": "name 'plt' is not defined",
     "output_type": "error",
     "traceback": [
      "\u001b[31m---------------------------------------------------------------------------\u001b[39m",
      "\u001b[31mNameError\u001b[39m                                 Traceback (most recent call last)",
      "\u001b[36mCell\u001b[39m\u001b[36m \u001b[39m\u001b[32mIn[9]\u001b[39m\u001b[32m, line 8\u001b[39m\n\u001b[32m      5\u001b[39m     df[\u001b[33m\"\u001b[39m\u001b[33mClothing\u001b[39m\u001b[33m\"\u001b[39m] *= \u001b[32m0.85\u001b[39m  \u001b[38;5;66;03m# 15%\u001b[39;00m\n\u001b[32m      7\u001b[39m \u001b[38;5;66;03m# Part III: Visualizations\u001b[39;00m\n\u001b[32m----> \u001b[39m\u001b[32m8\u001b[39m \u001b[43mplt\u001b[49m.figure(figsize=(\u001b[32m10\u001b[39m, \u001b[32m6\u001b[39m))\n\u001b[32m      9\u001b[39m \u001b[38;5;28;01mfor\u001b[39;00m category \u001b[38;5;129;01min\u001b[39;00m categories:\n\u001b[32m     10\u001b[39m     plt.plot(df.index, df[category], marker=\u001b[33m'\u001b[39m\u001b[33mo\u001b[39m\u001b[33m'\u001b[39m, label=category)\n",
      "\u001b[31mNameError\u001b[39m: name 'plt' is not defined"
     ]
    }
   ],
   "source": [
    "# 5\n",
    "if random_seed % 2 == 0:\n",
    "    df[\"Electronics\"] *= 0.9  # 10%\n",
    "else:\n",
    "    df[\"Clothing\"] *= 0.85  # 15%\n",
    "\n",
    "# Part III: Visualizations\n",
    "plt.figure(figsize=(10, 6))\n",
    "for category in categories:\n",
    "    plt.plot(df.index, df[category], marker='o', label=category)\n",
    "plt.xlabel(\"Month\")\n",
    "plt.ylabel(\"Sales\")\n",
    "plt.title(\"Monthly Sales Trends\")\n",
    "plt.legend()\n",
    "plt.grid(True)\n",
    "plt.show()\n",
    "\n",
    "# boxplot\n",
    "plt.figure(figsize=(8, 5))\n",
    "plt.boxplot([df[cat] for cat in categories], labels=categories)\n",
    "plt.title(\"Sales Distribution by Category\")\n",
    "plt.show()"
   ]
  },
  {
   "cell_type": "markdown",
   "metadata": {},
   "source": [
    "Q.2 For the array: array = np.array([[1, -2, 3],[-4, 5, -6]])\n",
    " i. Find element-wise absolute value\n",
    "ii. Find the 25th, 50th, and 75th percenƟle of flaƩened array, for each column, for each\n",
    "row.\n",
    "iii. Mean, Median and Standard DeviaƟon of flaƩened array, of each column, and\n",
    "each row "
   ]
  },
  {
   "cell_type": "code",
   "execution_count": null,
   "metadata": {},
   "outputs": [
    {
     "name": "stdout",
     "output_type": "stream",
     "text": [
      "Element-wise Absolute Values:\n",
      " [[1 2 3]\n",
      " [4 5 6]]\n"
     ]
    }
   ],
   "source": [
    "array = np.array([[1, -2, 3], [-4, 5, -6]])\n",
    "\n",
    "# 1\n",
    "absolute_values = np.abs(array)\n",
    "print(\"Element-wise Absolute Values:\\n\", absolute_values)"
   ]
  },
  {
   "cell_type": "code",
   "execution_count": null,
   "metadata": {},
   "outputs": [
    {
     "name": "stdout",
     "output_type": "stream",
     "text": [
      "Flattened Percentiles: [-3.5 -0.5  2.5]\n",
      "Column-wise Percentiles:\n",
      " [[-2.75 -0.25 -3.75]\n",
      " [-1.5   1.5  -1.5 ]\n",
      " [-0.25  3.25  0.75]]\n",
      "Row-wise Percentiles:\n",
      " [[-0.5 -5. ]\n",
      " [ 1.  -4. ]\n",
      " [ 2.   0.5]]\n"
     ]
    }
   ],
   "source": [
    "# 2\n",
    "flattened_percentiles = np.percentile(array, [25, 50, 75])\n",
    "column_percentiles = np.percentile(array, [25, 50, 75], axis=0)\n",
    "row_percentiles = np.percentile(array, [25, 50, 75], axis=1)\n",
    "print(\"Flattened Percentiles:\", flattened_percentiles)\n",
    "print(\"Column-wise Percentiles:\\n\", column_percentiles)\n",
    "print(\"Row-wise Percentiles:\\n\", row_percentiles)"
   ]
  },
  {
   "cell_type": "code",
   "execution_count": null,
   "metadata": {},
   "outputs": [
    {
     "name": "stdout",
     "output_type": "stream",
     "text": [
      "Mean (Flattened): -0.5\n",
      "Median (Flattened): -0.5\n",
      "Standard Deviation (Flattened): 3.8622100754188224\n",
      "Mean (Columns): [-1.5  1.5 -1.5]\n",
      "Median (Columns): [-1.5  1.5 -1.5]\n",
      "Standard Deviation (Columns): [2.5 3.5 4.5]\n",
      "Mean (Rows): [ 0.66666667 -1.66666667]\n",
      "Median (Rows): [ 1. -4.]\n",
      "Standard Deviation (Rows): [2.05480467 4.78423336]\n"
     ]
    }
   ],
   "source": [
    "# 3\n",
    "mean_flattened = np.mean(array)\n",
    "median_flattened = np.median(array)\n",
    "std_flattened = np.std(array)\n",
    "mean_columns = np.mean(array, axis=0)\n",
    "median_columns = np.median(array, axis=0)\n",
    "std_columns = np.std(array, axis=0)\n",
    "mean_rows = np.mean(array, axis=1)\n",
    "median_rows = np.median(array, axis=1)\n",
    "std_rows = np.std(array, axis=1)\n",
    "\n",
    "print(\"Mean (Flattened):\", mean_flattened)\n",
    "print(\"Median (Flattened):\", median_flattened)\n",
    "print(\"Standard Deviation (Flattened):\", std_flattened)\n",
    "print(\"Mean (Columns):\", mean_columns)\n",
    "print(\"Median (Columns):\", median_columns)\n",
    "print(\"Standard Deviation (Columns):\", std_columns)\n",
    "print(\"Mean (Rows):\", mean_rows)\n",
    "print(\"Median (Rows):\", median_rows)\n",
    "print(\"Standard Deviation (Rows):\", std_rows)\n"
   ]
  },
  {
   "cell_type": "markdown",
   "metadata": {},
   "source": [
    "Q.3 For the array: a = np.array([-1.8, -1.6, -0.5, 0.5,1.6, 1.8, 3.0]).\n",
    "i. Find floor, ceiling and truncated value, rounded values"
   ]
  },
  {
   "cell_type": "code",
   "execution_count": null,
   "metadata": {},
   "outputs": [
    {
     "name": "stdout",
     "output_type": "stream",
     "text": [
      "Floor Values: [-2. -2. -1.  0.  1.  1.  3.]\n",
      "Ceiling Values: [-1. -1. -0.  1.  2.  2.  3.]\n",
      "Truncated Values: [-1. -1. -0.  0.  1.  1.  3.]\n",
      "Rounded Values: [-2. -2. -0.  0.  2.  2.  3.]\n"
     ]
    }
   ],
   "source": [
    "a = np.array([-1.8, -1.6, -0.5, 0.5, 1.6, 1.8, 3.0])\n",
    "\n",
    "# 1.\n",
    "floor_values = np.floor(a)\n",
    "ceiling_values = np.ceil(a)\n",
    "truncated_values = np.trunc(a)\n",
    "rounded_values = np.round(a)\n",
    "\n",
    "print(\"Floor Values:\", floor_values)\n",
    "print(\"Ceiling Values:\", ceiling_values)\n",
    "print(\"Truncated Values:\", truncated_values)\n",
    "print(\"Rounded Values:\", rounded_values)\n"
   ]
  },
  {
   "cell_type": "markdown",
   "metadata": {},
   "source": [
    "Q.4 WAP to swap two elements in a list in Python Using a Temporary Variable."
   ]
  },
  {
   "cell_type": "code",
   "execution_count": null,
   "metadata": {},
   "outputs": [
    {
     "name": "stdout",
     "output_type": "stream",
     "text": [
      "List after swapping: [10, 40, 30, 20, 50]\n"
     ]
    }
   ],
   "source": [
    "def swap_elements(lst, i, j):\n",
    "    temp = lst[i]\n",
    "    lst[i] = lst[j]\n",
    "    lst[j] = temp\n",
    "    return lst\n",
    "\n",
    "\n",
    "my_list = [10, 20, 30, 40, 50]\n",
    "i, j = 1, 3 \n",
    "swapped_list = swap_elements(my_list, i, j)\n",
    "print(\"List after swapping:\", swapped_list)\n"
   ]
  },
  {
   "cell_type": "markdown",
   "metadata": {},
   "source": [
    "Q.5 Write a Python program to swap two elements in a set by converƟng it to a list first."
   ]
  },
  {
   "cell_type": "code",
   "execution_count": null,
   "metadata": {},
   "outputs": [
    {
     "name": "stdout",
     "output_type": "stream",
     "text": [
      "Set after swapping: {40, 10, 50, 20, 30}\n"
     ]
    }
   ],
   "source": [
    "def swap_elements_in_set(s, val1, val2):\n",
    "    lst = list(s)  \n",
    "    if val1 in lst and val2 in lst:\n",
    "        i, j = lst.index(val1), lst.index(val2)\n",
    "        lst[i], lst[j] = lst[j], lst[i]  \n",
    "        return set(lst)  \n",
    "    return s \n",
    "\n",
    "my_set = {10, 20, 30, 40, 50}\n",
    "val1, val2 = 20, 40\n",
    "swapped_set = swap_elements_in_set(my_set, val1, val2)\n",
    "print(\"Set after swapping:\", swapped_set)"
   ]
  }
 ],
 "metadata": {
  "kernelspec": {
   "display_name": "Python 3",
   "language": "python",
   "name": "python3"
  },
  "language_info": {
   "codemirror_mode": {
    "name": "ipython",
    "version": 3
   },
   "file_extension": ".py",
   "mimetype": "text/x-python",
   "name": "python",
   "nbconvert_exporter": "python",
   "pygments_lexer": "ipython3",
   "version": "3.12.7"
  }
 },
 "nbformat": 4,
 "nbformat_minor": 4
}

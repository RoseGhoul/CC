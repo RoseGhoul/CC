{
  "nbformat": 4,
  "nbformat_minor": 0,
  "metadata": {
    "colab": {
      "provenance": []
    },
    "kernelspec": {
      "name": "python3",
      "display_name": "Python 3"
    },
    "language_info": {
      "name": "python"
    }
  },
  "cells": [
    {
      "cell_type": "code",
      "execution_count": 15,
      "metadata": {
        "id": "62dQFk7lxFKu"
      },
      "outputs": [],
      "source": [
        "from chatterbot import ChatBot\n",
        "from chatterbot.trainers import ListTrainer"
      ]
    },
    {
      "cell_type": "code",
      "source": [
        "# Create a new chatbot instance\n",
        "health_bot = ChatBot(\n",
        "    name='HealthBot',\n",
        "    read_only=True,\n",
        "    logic_adapters=[\n",
        "        'chatterbot.logic.BestMatch',\n",
        "        'chatterbot.logic.MathematicalEvaluation'\n",
        "    ]\n",
        ")\n",
        "\n",
        "# Create a new trainer\n",
        "trainer = ListTrainer(health_bot)"
      ],
      "metadata": {
        "id": "nQLqyrr3xK5e"
      },
      "execution_count": 16,
      "outputs": []
    },
    {
      "cell_type": "code",
      "source": [
        "# Conversation training data\n",
        "conversation = [\n",
        "    \"Hi\",\n",
        "    \"Hello! I am HealthBot. How can I assist you today?\",\n",
        "    \"Hello\",\n",
        "    \"Hi! Do you have a health-related question?\",\n",
        "    \"I have a headache\",\n",
        "    \"You should rest, stay hydrated, and take a mild pain reliever if needed.\",\n",
        "    \"What should I do if I have a fever?\",\n",
        "    \"Drink plenty of fluids and rest. If the fever persists, please consult a doctor.\",\n",
        "    \"I feel dizzy\",\n",
        "    \"Sit down, breathe deeply, and drink water. If it continues, seek medical help.\",\n",
        "    \"What should I eat for a cold?\",\n",
        "    \"Warm fluids, soups, citrus fruits, and light meals help during a cold.\",\n",
        "    \"How to stay healthy?\",\n",
        "    \"Eat balanced meals, exercise regularly, stay hydrated, and get enough sleep.\",\n",
        "    \"What should I do in case of a cut?\",\n",
        "    \"Clean the wound with water, apply antiseptic, and cover it with a clean bandage.\",\n",
        "    \"How much water should I drink daily?\",\n",
        "    \"Generally, 2 to 3 liters per day is recommended, but it varies based on your activity.\",\n",
        "    \"Thank you\",\n",
        "    \"You’re welcome! Take care.\",\n",
        "    \"Bye\",\n",
        "    \"Goodbye! Stay healthy.\"\n",
        "]\n",
        "\n",
        "# Train the bot with the conversation\n",
        "trainer.train(conversation)"
      ],
      "metadata": {
        "id": "zvwrC0cFxQRB",
        "colab": {
          "base_uri": "https://localhost:8080/"
        },
        "outputId": "fa2188f1-e154-4e8e-ddf1-0b626fcc57a1"
      },
      "execution_count": 17,
      "outputs": [
        {
          "output_type": "stream",
          "name": "stderr",
          "text": [
            "List Trainer: 22it [00:00, 575.26it/s]\n"
          ]
        }
      ]
    },
    {
      "cell_type": "code",
      "source": [
        "# Start chatting\n",
        "print(\"HealthBot is ready to talk! Type 'exit' to stop.\")\n",
        "while True:\n",
        "    user_input = input(\"You: \")\n",
        "    if user_input.lower() == 'exit':\n",
        "        print(\"HealthBot: Goodbye! Stay healthy.\")\n",
        "        break\n",
        "    response = health_bot.get_response(user_input)\n",
        "    print(\"HealthBot:\", response)\n"
      ],
      "metadata": {
        "colab": {
          "base_uri": "https://localhost:8080/"
        },
        "id": "nW3qAjKTxcD-",
        "outputId": "050f3f8a-50f8-4617-8644-915c9e4bb5e3"
      },
      "execution_count": 18,
      "outputs": [
        {
          "output_type": "stream",
          "name": "stdout",
          "text": [
            "HealthBot is ready to talk! Type 'exit' to stop.\n",
            "You: hi\n",
            "HealthBot: Hello! I am HealthBot. How can I assist you today?\n",
            "You: i have headaache\n",
            "HealthBot: You should rest, stay hydrated, and take a mild pain reliever if needed.\n",
            "You: ifeel dizzy\n",
            "HealthBot: Sit down, breathe deeply, and drink water. If it continues, seek medical help.\n",
            "You: thank you\n",
            "HealthBot: You’re welcome! Take care.\n",
            "You: bye\n",
            "HealthBot: Goodbye! Stay healthy.\n",
            "You: exit\n",
            "HealthBot: Goodbye! Stay healthy.\n"
          ]
        }
      ]
    }
  ]
}
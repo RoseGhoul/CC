{
 "cells": [
  {
   "cell_type": "code",
   "execution_count": 1,
   "metadata": {},
   "outputs": [],
   "source": [
    "import random"
   ]
  },
  {
   "cell_type": "markdown",
   "metadata": {},
   "source": [
    "Question 1"
   ]
  },
  {
   "cell_type": "code",
   "execution_count": 2,
   "metadata": {},
   "outputs": [
    {
     "name": "stdout",
     "output_type": "stream",
     "text": [
      "original list [10, 20, 30, 40, 50, 60, 70, 80]\n",
      "200,300 add to list [10, 20, 30, 40, 50, 60, 70, 80, 200, 300]\n",
      "10,30 removed [20, 40, 50, 60, 70, 80, 200, 300]\n",
      "sorted list (ascending) [20, 40, 50, 60, 70, 80, 200, 300]\n",
      "sorted list (descending) [300, 200, 80, 70, 60, 50, 40, 20]\n"
     ]
    }
   ],
   "source": [
    "l=[10,20,30,40,50,60,70,80]\n",
    "print(\"original list\",l)\n",
    "l.append(200)\n",
    "l.append(300)\n",
    "print(\"200,300 add to list\",l)\n",
    "l.remove(10)\n",
    "l.remove(30)\n",
    "print(\"10,30 removed\",l)\n",
    "l.sort()\n",
    "print (\"sorted list (ascending)\",l)\n",
    "l.sort(reverse=True)\n",
    "print (\"sorted list (descending)\",l)"
   ]
  },
  {
   "cell_type": "markdown",
   "metadata": {},
   "source": [
    "Question 2"
   ]
  },
  {
   "cell_type": "code",
   "execution_count": 3,
   "metadata": {},
   "outputs": [
    {
     "name": "stdout",
     "output_type": "stream",
     "text": [
      "max element in tuple  (45, 89.5, 76, 45.4, 89, 92, 58, 45)  is  92  at index  5\n",
      "min element in tuple  (45, 89.5, 76, 45.4, 89, 92, 58, 45)  is  45  with count  2\n",
      "(45, 58, 92, 89, 45.4, 76, 89.5, 45)\n",
      "element 76 is present with no. of counts  1\n"
     ]
    }
   ],
   "source": [
    "scores = (45, 89.5, 76, 45.4, 89, 92, 58, 45)\n",
    "max = max(scores)\n",
    "index=scores.index(max)\n",
    "print (\"max element in tuple \",scores,\" is \",max,\" at index \",index)\n",
    "min = min(scores)\n",
    "count=scores.count(min)\n",
    "print (\"min element in tuple \",scores,\" is \",min,\" with count \",count)\n",
    "print (tuple(reversed(scores)))\n",
    "if(76 in scores):\n",
    "    print(\"element 76 is present with no. of counts \",scores.count(76))\n",
    "else:\n",
    "    print(\"element not found\")"
   ]
  },
  {
   "cell_type": "markdown",
   "metadata": {},
   "source": [
    "Question 3"
   ]
  },
  {
   "cell_type": "code",
   "execution_count": 4,
   "metadata": {},
   "outputs": [
    {
     "name": "stdout",
     "output_type": "stream",
     "text": [
      "list generated  [792, 264, 507, 368, 607]\n",
      "all even number generated [792, 264, 368]\n",
      "all odd no. generated  [507, 607]\n"
     ]
    }
   ],
   "source": [
    "l=[]\n",
    "even=[]\n",
    "odd=[]\n",
    "prime=[]\n",
    "for i in range(5):\n",
    "    l.append(random.randint(100,900))\n",
    "for a in l:\n",
    "    if a%2==0:\n",
    "        even.append(a)\n",
    "        \n",
    "    else:\n",
    "        odd.append(a)\n",
    "print (\"list generated \",l)\n",
    "print (\"all even number generated\" ,even)\n",
    "print (\"all odd no. generated \",odd)"
   ]
  },
  {
   "cell_type": "markdown",
   "metadata": {},
   "source": [
    "Question 4"
   ]
  },
  {
   "cell_type": "code",
   "execution_count": 5,
   "metadata": {},
   "outputs": [
    {
     "name": "stdout",
     "output_type": "stream",
     "text": [
      "union of sets  {34, 45, 78, 23, 56, 90}\n",
      "intersection of sets  {90, 78}\n",
      "exclusive score for A {56, 34}\n",
      "exclusive for B {45, 23}\n",
      "False\n",
      "False\n",
      "new scores for team A  {56, 34, 78}\n"
     ]
    }
   ],
   "source": [
    "A = {34, 56, 78, 90} \n",
    "B = {78, 45, 90, 23}\n",
    "print (\"union of sets \", set.union(A,B))\n",
    "print (\"intersection of sets \", set.intersection(A,B))\n",
    "print (\"exclusive score for A\",A-B)\n",
    "print (\"exclusive for B\",B-A)\n",
    "print (set.issubset(A,B))\n",
    "print (set.issuperset(B,A))\n",
    "x=int(input(\"eneter element:\"))\n",
    "if x in A:\n",
    "    set.remove(A,x)\n",
    "    print (\"new scores for team A \",A)\n",
    "else:\n",
    "    print(\"score not found\")"
   ]
  },
  {
   "cell_type": "markdown",
   "metadata": {},
   "source": [
    "Question 5"
   ]
  },
  {
   "cell_type": "code",
   "execution_count": 6,
   "metadata": {},
   "outputs": [
    {
     "name": "stdout",
     "output_type": "stream",
     "text": [
      "{'name': 'Kelly', 'age': 25, 'salary': 8000, 'location': 'new york'}\n"
     ]
    }
   ],
   "source": [
    "direc={\n",
    "    \"name\":\"Kelly\",\n",
    "    \"age\":25,\n",
    "    \"salary\":8000,\n",
    "    \"city\":\"new york\"\n",
    "}\n",
    "direc[\"location\"]=direc.pop(\"city\")\n",
    "print(direc)"
   ]
  }
 ],
 "metadata": {
  "kernelspec": {
   "display_name": "Python 3",
   "language": "python",
   "name": "python3"
  },
  "language_info": {
   "codemirror_mode": {
    "name": "ipython",
    "version": 3
   },
   "file_extension": ".py",
   "mimetype": "text/x-python",
   "name": "python",
   "nbconvert_exporter": "python",
   "pygments_lexer": "ipython3",
   "version": "3.13.1"
  }
 },
 "nbformat": 4,
 "nbformat_minor": 2
}

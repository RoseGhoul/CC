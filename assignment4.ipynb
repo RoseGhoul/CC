{
 "cells": [
  {
   "cell_type": "code",
   "execution_count": 13,
   "metadata": {},
   "outputs": [],
   "source": [
    "import numpy as np"
   ]
  },
  {
   "cell_type": "markdown",
   "metadata": {},
   "source": [
    "Question 1"
   ]
  },
  {
   "cell_type": "code",
   "execution_count": 14,
   "metadata": {},
   "outputs": [
    {
     "name": "stdout",
     "output_type": "stream",
     "text": [
      "[3 4 5 6 7]\n",
      "[ 3  6  9 12 15]\n",
      "[0.5 1.  1.5 2.  2.5]\n"
     ]
    }
   ],
   "source": [
    "a=np.array([1,2,3,4,5])\n",
    "print(a+2)\n",
    "print(a*3)\n",
    "print(a/2)"
   ]
  },
  {
   "cell_type": "markdown",
   "metadata": {},
   "source": [
    "Question 2"
   ]
  },
  {
   "cell_type": "code",
   "execution_count": 15,
   "metadata": {},
   "outputs": [
    {
     "name": "stdout",
     "output_type": "stream",
     "text": [
      "[5 4 6 3 2 1]\n",
      "most frequent value in x ={most_frequent_value}\n",
      "most frequent value in xy={most_frequent_value}\n"
     ]
    }
   ],
   "source": [
    "b=np.array([1, 2, 3, 6, 4, 5])\n",
    "print(b[::-1])\n",
    "x = np.array([1,2,3,4,5,1,2,1,1,1])\n",
    "y = np.array([1, 1, 1, 2, 3, 4, 2, 4, 3, 3, ])\n",
    "values, counts = np.unique(x, return_counts=True)\n",
    "max_count = np.max(counts)\n",
    "most_frequent_value = values[np.argmax(counts)]\n",
    "print(\"most frequent value in x ={most_frequent_value}\")\n",
    "values, counts = np.unique(y, return_counts=True)\n",
    "max_count = np.max(counts)\n",
    "most_frequent_value = values[np.argmax(counts)]\n",
    "print(\"most frequent value in xy={most_frequent_value}\")"
   ]
  },
  {
   "cell_type": "markdown",
   "metadata": {},
   "source": [
    "Question 3"
   ]
  },
  {
   "cell_type": "code",
   "execution_count": 16,
   "metadata": {},
   "outputs": [
    {
     "name": "stdout",
     "output_type": "stream",
     "text": [
      "Element at (1st row, 2nd column): 20\n",
      "Element at (3rd row, 1st column): 70\n"
     ]
    }
   ],
   "source": [
    "arr3 = np.array([[10, 20, 30], [40, 50, 60], [70, 80, 90]])\n",
    "print(\"Element at (1st row, 2nd column):\", arr3[0, 1])\n",
    "print(\"Element at (3rd row, 1st column):\", arr3[2, 0])"
   ]
  },
  {
   "cell_type": "markdown",
   "metadata": {},
   "source": [
    "Question 4"
   ]
  },
  {
   "cell_type": "code",
   "execution_count": 17,
   "metadata": {},
   "outputs": [
    {
     "name": "stdout",
     "output_type": "stream",
     "text": [
      "Generated array: [ 10.    13.75  17.5   21.25  25.    28.75  32.5   36.25  40.    43.75\n",
      "  47.5   51.25  55.    58.75  62.5   66.25  70.    73.75  77.5   81.25\n",
      "  85.    88.75  92.5   96.25 100.  ]\n",
      "Dimensions: 1\n",
      "Shape: (25,)\n",
      "Total elements: 25\n",
      "Data type: float64\n",
      "Total bytes consumed: 200\n",
      "Reshaped array:\n",
      " [[ 10.  ]\n",
      " [ 13.75]\n",
      " [ 17.5 ]\n",
      " [ 21.25]\n",
      " [ 25.  ]\n",
      " [ 28.75]\n",
      " [ 32.5 ]\n",
      " [ 36.25]\n",
      " [ 40.  ]\n",
      " [ 43.75]\n",
      " [ 47.5 ]\n",
      " [ 51.25]\n",
      " [ 55.  ]\n",
      " [ 58.75]\n",
      " [ 62.5 ]\n",
      " [ 66.25]\n",
      " [ 70.  ]\n",
      " [ 73.75]\n",
      " [ 77.5 ]\n",
      " [ 81.25]\n",
      " [ 85.  ]\n",
      " [ 88.75]\n",
      " [ 92.5 ]\n",
      " [ 96.25]\n",
      " [100.  ]]\n",
      "Using T attribute:\n",
      " [ 10.    13.75  17.5   21.25  25.    28.75  32.5   36.25  40.    43.75\n",
      "  47.5   51.25  55.    58.75  62.5   66.25  70.    73.75  77.5   81.25\n",
      "  85.    88.75  92.5   96.25 100.  ]\n"
     ]
    }
   ],
   "source": [
    "Hemant = np.linspace(10, 100, 25)\n",
    "print(\"Generated array:\", Hemant)\n",
    "print(\"Dimensions:\", Hemant.ndim)\n",
    "print(\"Shape:\", Hemant.shape)\n",
    "print(\"Total elements:\", Hemant.size)\n",
    "print(\"Data type:\", Hemant.dtype)\n",
    "print(\"Total bytes consumed:\", Hemant.nbytes)\n",
    "reshaped_array = Hemant.reshape(25, 1)\n",
    "print(\"Reshaped array:\\n\", reshaped_array)\n",
    "print(\"Using T attribute:\\n\", Hemant.T)"
   ]
  },
  {
   "cell_type": "markdown",
   "metadata": {},
   "source": [
    "Question 5"
   ]
  },
  {
   "cell_type": "code",
   "execution_count": 18,
   "metadata": {},
   "outputs": [
    {
     "name": "stdout",
     "output_type": "stream",
     "text": [
      "Mean: 43.333333333333336\n",
      "Median: 37.5\n",
      "Max: 90\n",
      "Min: 10\n",
      "Unique elements: [10 15 20 30 35 40 50 60 70 80 90]\n",
      "Reshaped array:\n",
      " [[10 20 30]\n",
      " [40 50 60]\n",
      " [70 80 90]\n",
      " [15 20 35]]\n",
      "Resized array:\n",
      " [[10 20 30]\n",
      " [50 60 70]]\n"
     ]
    }
   ],
   "source": [
    "ucs420_Hemant = np.array([[10, 20, 30, 40], [50, 60, 70, 80], [90, 15, 20, 35]])\n",
    "print(\"Mean:\", np.mean(ucs420_Hemant))\n",
    "print(\"Median:\", np.median(ucs420_Hemant))\n",
    "print(\"Max:\", np.max(ucs420_Hemant))\n",
    "print(\"Min:\", np.min(ucs420_Hemant))\n",
    "print(\"Unique elements:\", np.unique(ucs420_Hemant))\n",
    "reshaped_ucs420_Hemant = ucs420_Hemant.reshape(4, 3)\n",
    "print(\"Reshaped array:\\n\", reshaped_ucs420_Hemant)\n",
    "resized_ucs420_Hemant = ucs420_Hemant[:2, :3]\n",
    "print(\"Resized array:\\n\", resized_ucs420_Hemant)"
   ]
  }
 ],
 "metadata": {
  "kernelspec": {
   "display_name": "Python 3",
   "language": "python",
   "name": "python3"
  },
  "language_info": {
   "codemirror_mode": {
    "name": "ipython",
    "version": 3
   },
   "file_extension": ".py",
   "mimetype": "text/x-python",
   "name": "python",
   "nbconvert_exporter": "python",
   "pygments_lexer": "ipython3",
   "version": "3.13.1"
  }
 },
 "nbformat": 4,
 "nbformat_minor": 2
}

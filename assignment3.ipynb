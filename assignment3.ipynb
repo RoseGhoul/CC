{
 "cells": [
  {
   "cell_type": "markdown",
   "metadata": {},
   "source": [
    "1."
   ]
  },
  {
   "cell_type": "code",
   "execution_count": 3,
   "metadata": {},
   "outputs": [],
   "source": [
    "import pandas as pd"
   ]
  },
  {
   "cell_type": "code",
   "execution_count": 5,
   "metadata": {},
   "outputs": [
    {
     "name": "stdout",
     "output_type": "stream",
     "text": [
      "   Employee_ID     Name Department  Age  Salary  Years_of_Experience  \\\n",
      "0          101    Alice         HR   29   50000                    4   \n",
      "1          102      Bob         IT   34   70000                    8   \n",
      "2          103  Charlie         IT   41   65000                   10   \n",
      "3          104    Diana  Marketing   28   55000                    3   \n",
      "4          105   Edward      Sales   38   60000                   12   \n",
      "\n",
      "  Joining_Date  Gender  Bonus  Rating  \n",
      "0   2020-03-15  Female   5000     4.5  \n",
      "1   2017-07-19    Male   7000     4.0  \n",
      "2   2013-06-01    Male   6000     3.8  \n",
      "3   2021-02-10  Female   4500     4.7  \n",
      "4   2010-11-25    Male   5000     3.5  \n"
     ]
    }
   ],
   "source": [
    "# Q1: Create the dataset as shown in Q6\n",
    "data = {\n",
    "    \"Employee_ID\": [101, 102, 103, 104, 105],\n",
    "    \"Name\": [\"Alice\", \"Bob\", \"Charlie\", \"Diana\", \"Edward\"],\n",
    "    \"Department\": [\"HR\", \"IT\", \"IT\", \"Marketing\", \"Sales\"],\n",
    "    \"Age\": [29, 34, 41, 28, 38],\n",
    "    \"Salary\": [50000, 70000, 65000, 55000, 60000],\n",
    "    \"Years_of_Experience\": [4, 8, 10, 3, 12],\n",
    "    \"Joining_Date\": [\"2020-03-15\", \"2017-07-19\", \"2013-06-01\", \"2021-02-10\", \"2010-11-25\"],\n",
    "    \"Gender\": [\"Female\", \"Male\", \"Male\", \"Female\", \"Male\"],\n",
    "    \"Bonus\": [5000, 7000, 6000, 4500, 5000],\n",
    "    \"Rating\": [4.5, 4.0, 3.8, 4.7, 3.5]\n",
    "}\n",
    "\n",
    "df = pd.DataFrame(data)\n",
    "print(df)\n"
   ]
  },
  {
   "cell_type": "code",
   "execution_count": null,
   "metadata": {},
   "outputs": [
    {
     "name": "stdout",
     "output_type": "stream",
     "text": [
      "Rows 0, 4, 7, and 8 (if they exist):\n",
      "   Employee_ID    Name Department  Age  Salary  Years_of_Experience  \\\n",
      "0          101   Alice         HR   29   50000                    4   \n",
      "4          105  Edward      Sales   38   60000                   12   \n",
      "\n",
      "  Joining_Date  Gender  Bonus  Rating  \n",
      "0   2020-03-15  Female   5000     4.5  \n",
      "4   2010-11-25    Male   5000     3.5  \n"
     ]
    }
   ],
   "source": [
    "# Q2: Locate rows 0, 4, 7, and 8\n",
    "print(\"Rows 0, 4, 7, and 8 (if they exist):\")\n",
    "print(df.loc[[0, 4]])"
   ]
  },
  {
   "cell_type": "code",
   "execution_count": 7,
   "metadata": {},
   "outputs": [
    {
     "name": "stdout",
     "output_type": "stream",
     "text": [
      "\n",
      "Rows from index 3 to 7:\n",
      "   Employee_ID    Name Department  Age  Salary  Years_of_Experience  \\\n",
      "3          104   Diana  Marketing   28   55000                    3   \n",
      "4          105  Edward      Sales   38   60000                   12   \n",
      "\n",
      "  Joining_Date  Gender  Bonus  Rating  \n",
      "3   2021-02-10  Female   4500     4.7  \n",
      "4   2010-11-25    Male   5000     3.5  \n",
      "\n",
      "Rows from index 4 to 8, columns 2 to 4:\n",
      "  Department  Age  Salary\n",
      "4      Sales   38   60000\n",
      "\n",
      "All rows with column index 1 to 3 (include index 3):\n",
      "      Name Department  Age\n",
      "0    Alice         HR   29\n",
      "1      Bob         IT   34\n",
      "2  Charlie         IT   41\n",
      "3    Diana  Marketing   28\n",
      "4   Edward      Sales   38\n"
     ]
    }
   ],
   "source": [
    "# Q3: Navigate the DataFrame\n",
    "print(\"\\nRows from index 3 to 7:\")\n",
    "print(df.iloc[3:8])\n",
    "\n",
    "print(\"\\nRows from index 4 to 8, columns 2 to 4:\")\n",
    "print(df.iloc[4:9, 2:5])\n",
    "\n",
    "print(\"\\nAll rows with column index 1 to 3 (include index 3):\")\n",
    "print(df.iloc[:, 1:4])"
   ]
  },
  {
   "cell_type": "code",
   "execution_count": 19,
   "metadata": {},
   "outputs": [
    {
     "name": "stderr",
     "output_type": "stream",
     "text": [
      "c:\\Users\\asus\\AppData\\Local\\Programs\\Python\\Python313\\Lib\\site-packages\\tqdm\\auto.py:21: TqdmWarning: IProgress not found. Please update jupyter and ipywidgets. See https://ipywidgets.readthedocs.io/en/stable/user_install.html\n",
      "  from .autonotebook import tqdm as notebook_tqdm\n"
     ]
    },
    {
     "name": "stdout",
     "output_type": "stream",
     "text": [
      "Downloading from https://www.kaggle.com/api/v1/datasets/download/uciml/iris?dataset_version_number=2...\n"
     ]
    },
    {
     "name": "stderr",
     "output_type": "stream",
     "text": [
      "100%|██████████| 3.60k/3.60k [00:00<00:00, 2.91MB/s]"
     ]
    },
    {
     "name": "stdout",
     "output_type": "stream",
     "text": [
      "Extracting files...\n",
      "   Id  SepalLengthCm  SepalWidthCm  PetalLengthCm  PetalWidthCm      Species\n",
      "0   1            5.1           3.5            1.4           0.2  Iris-setosa\n",
      "1   2            4.9           3.0            1.4           0.2  Iris-setosa\n",
      "2   3            4.7           3.2            1.3           0.2  Iris-setosa\n",
      "3   4            4.6           3.1            1.5           0.2  Iris-setosa\n",
      "4   5            5.0           3.6            1.4           0.2  Iris-setosa\n",
      "   Id  SepalLengthCm  PetalLengthCm  PetalWidthCm      Species\n",
      "0   1            5.1            1.4           0.2  Iris-setosa\n",
      "1   2            4.9            1.4           0.2  Iris-setosa\n",
      "2   3            4.7            1.3           0.2  Iris-setosa\n",
      "3   4            4.6            1.5           0.2  Iris-setosa\n",
      "5   6            5.4            1.7           0.4  Iris-setosa\n"
     ]
    },
    {
     "name": "stderr",
     "output_type": "stream",
     "text": [
      "\n"
     ]
    }
   ],
   "source": [
    "\n",
    "#Question-4\n",
    "import kagglehub\n",
    "path = kagglehub.dataset_download(\"uciml/iris\")\n",
    "rcsv=pd.read_csv(f\"{path}/iris.csv\")\n",
    "print(rcsv[0:5])\n",
    "#Question-5\n",
    "rcsv.drop(4,axis=0,inplace=True)\n",
    "rcsv.drop(rcsv.columns[[2]],axis=1,inplace=True)\n",
    "print(rcsv[0:5])\n",
    "\n",
    " \n"
   ]
  },
  {
   "cell_type": "code",
   "execution_count": 20,
   "metadata": {},
   "outputs": [],
   "source": [
    "#Question-6\n",
    "data={\n",
    "    \"Employee_Id\":[101,102,103,104,105],\n",
    "    \"Name\":[\"Alice\",\"Bob\",\"Charlie\",\"Diana\",\"Edward\"],\n",
    "    \"Department\":[\"HR\",\"IT\",\"IT\",\"Marketing\",\"Sales\"],\n",
    "    \"Age\":[29,34,41,28,38],\n",
    "    \"Salary\":[50000,70000,65000,55000,60000],\n",
    "    \"Years_of_experience\":[4,8,10,3,12],\n",
    "    \"Joining_Date\":[\"2020-03-15\",\"2017-07-19\",\"2013-06-01\",\"2021-02-10\",\"2010-11-25\"],\n",
    "    \"Gender\":[\"Female\",\"Male\",\"Male\",\"Female\",\"Male\"],\n",
    "    \"Bonus\":[5000,7000,6000,4500,5000],\n",
    "    \"Rating\":[4.5,4.0,3.8,4.7,3.5]\n",
    "}\n",
    "df=pd.DataFrame(data)\n"
   ]
  },
  {
   "cell_type": "code",
   "execution_count": 17,
   "metadata": {},
   "outputs": [
    {
     "name": "stdout",
     "output_type": "stream",
     "text": [
      "Shape of the DataFrame: (5, 10)\n"
     ]
    }
   ],
   "source": [
    "#Part-6-A\n",
    "print(df.shape)\n"
   ]
  },
  {
   "cell_type": "code",
   "execution_count": 21,
   "metadata": {},
   "outputs": [
    {
     "name": "stdout",
     "output_type": "stream",
     "text": [
      "<class 'pandas.core.frame.DataFrame'>\n",
      "RangeIndex: 5 entries, 0 to 4\n",
      "Data columns (total 10 columns):\n",
      " #   Column               Non-Null Count  Dtype  \n",
      "---  ------               --------------  -----  \n",
      " 0   Employee_Id          5 non-null      int64  \n",
      " 1   Name                 5 non-null      object \n",
      " 2   Department           5 non-null      object \n",
      " 3   Age                  5 non-null      int64  \n",
      " 4   Salary               5 non-null      int64  \n",
      " 5   Years_of_experience  5 non-null      int64  \n",
      " 6   Joining_Date         5 non-null      object \n",
      " 7   Gender               5 non-null      object \n",
      " 8   Bonus                5 non-null      int64  \n",
      " 9   Rating               5 non-null      float64\n",
      "dtypes: float64(1), int64(5), object(4)\n",
      "memory usage: 532.0+ bytes\n",
      "None\n"
     ]
    }
   ],
   "source": [
    "#Part-6-B\n",
    "print(df.info())"
   ]
  },
  {
   "cell_type": "code",
   "execution_count": 22,
   "metadata": {},
   "outputs": [
    {
     "name": "stdout",
     "output_type": "stream",
     "text": [
      "       Employee_Id        Age       Salary  Years_of_experience   Bonus  \\\n",
      "count     5.000000   5.000000      5.00000             5.000000     5.0   \n",
      "mean    103.000000  34.000000  60000.00000             7.400000  5500.0   \n",
      "std       1.581139   5.612486   7905.69415             3.847077  1000.0   \n",
      "min     101.000000  28.000000  50000.00000             3.000000  4500.0   \n",
      "25%     102.000000  29.000000  55000.00000             4.000000  5000.0   \n",
      "50%     103.000000  34.000000  60000.00000             8.000000  5000.0   \n",
      "75%     104.000000  38.000000  65000.00000            10.000000  6000.0   \n",
      "max     105.000000  41.000000  70000.00000            12.000000  7000.0   \n",
      "\n",
      "         Rating  \n",
      "count  5.000000  \n",
      "mean   4.100000  \n",
      "std    0.494975  \n",
      "min    3.500000  \n",
      "25%    3.800000  \n",
      "50%    4.000000  \n",
      "75%    4.500000  \n",
      "max    4.700000  \n"
     ]
    }
   ],
   "source": [
    "#Part-6-C\n",
    "print(df.describe())"
   ]
  },
  {
   "cell_type": "code",
   "execution_count": 23,
   "metadata": {},
   "outputs": [
    {
     "name": "stdout",
     "output_type": "stream",
     "text": [
      "   Employee_Id     Name Department  Age  Salary  Years_of_experience  \\\n",
      "0          101    Alice         HR   29   50000                    4   \n",
      "1          102      Bob         IT   34   70000                    8   \n",
      "2          103  Charlie         IT   41   65000                   10   \n",
      "3          104    Diana  Marketing   28   55000                    3   \n",
      "4          105   Edward      Sales   38   60000                   12   \n",
      "\n",
      "  Joining_Date  Gender  Bonus  Rating  \n",
      "0   2020-03-15  Female   5000     4.5  \n",
      "1   2017-07-19    Male   7000     4.0  \n",
      "2   2013-06-01    Male   6000     3.8  \n",
      "3   2021-02-10  Female   4500     4.7  \n",
      "4   2010-11-25    Male   5000     3.5  \n",
      "   Employee_Id     Name Department  Age  Salary  Years_of_experience  \\\n",
      "2          103  Charlie         IT   41   65000                   10   \n",
      "3          104    Diana  Marketing   28   55000                    3   \n",
      "4          105   Edward      Sales   38   60000                   12   \n",
      "\n",
      "  Joining_Date  Gender  Bonus  Rating  \n",
      "2   2013-06-01    Male   6000     3.8  \n",
      "3   2021-02-10  Female   4500     4.7  \n",
      "4   2010-11-25    Male   5000     3.5  \n"
     ]
    }
   ],
   "source": [
    "#Part-6-D\n",
    "print(df.head(5))\n",
    "print(df.tail(3))"
   ]
  },
  {
   "cell_type": "code",
   "execution_count": 24,
   "metadata": {},
   "outputs": [
    {
     "name": "stdout",
     "output_type": "stream",
     "text": [
      "60000.0\n",
      "27500\n",
      "28\n",
      "4.7\n"
     ]
    }
   ],
   "source": [
    "#Part-6-e\n",
    "#1\n",
    "print(df['Salary'].mean())\n",
    "#2\n",
    "print(df['Bonus'].sum())\n",
    "#3\n",
    "print(df['Age'].min())\n",
    "#4\n",
    "print(df['Rating'].max())"
   ]
  },
  {
   "cell_type": "code",
   "execution_count": 25,
   "metadata": {},
   "outputs": [
    {
     "name": "stdout",
     "output_type": "stream",
     "text": [
      "   Employee_Id     Name Department  Age  Salary  Years_of_experience  \\\n",
      "1          102      Bob         IT   34   70000                    8   \n",
      "2          103  Charlie         IT   41   65000                   10   \n",
      "4          105   Edward      Sales   38   60000                   12   \n",
      "3          104    Diana  Marketing   28   55000                    3   \n",
      "0          101    Alice         HR   29   50000                    4   \n",
      "\n",
      "  Joining_Date  Gender  Bonus  Rating  \n",
      "1   2017-07-19    Male   7000     4.0  \n",
      "2   2013-06-01    Male   6000     3.8  \n",
      "4   2010-11-25    Male   5000     3.5  \n",
      "3   2021-02-10  Female   4500     4.7  \n",
      "0   2020-03-15  Female   5000     4.5  \n"
     ]
    }
   ],
   "source": [
    "#Part-6-f\n",
    "print(df.sort_values(by='Salary',ascending=False))"
   ]
  },
  {
   "cell_type": "code",
   "execution_count": 26,
   "metadata": {},
   "outputs": [
    {
     "name": "stdout",
     "output_type": "stream",
     "text": [
      "   Employee_Id     Name Department  Age  Salary  Years_of_experience  \\\n",
      "0          101    Alice         HR   29   50000                    4   \n",
      "1          102      Bob         IT   34   70000                    8   \n",
      "2          103  Charlie         IT   41   65000                   10   \n",
      "3          104    Diana  Marketing   28   55000                    3   \n",
      "4          105   Edward      Sales   38   60000                   12   \n",
      "\n",
      "  Joining_Date  Gender  Bonus  Rating   Category  \n",
      "0   2020-03-15  Female   5000     4.5  Excellect  \n",
      "1   2017-07-19    Male   7000     4.0       Good  \n",
      "2   2013-06-01    Male   6000     3.8    Average  \n",
      "3   2021-02-10  Female   4500     4.7  Excellect  \n",
      "4   2010-11-25    Male   5000     3.5    Average  \n"
     ]
    }
   ],
   "source": [
    "#Part-6-g\n",
    "def categorizing(a):\n",
    "    if(a>=4.5):\n",
    "        return 'Excellect'\n",
    "    elif(a>=4):\n",
    "        return 'Good'\n",
    "    else:\n",
    "        return 'Average'\n",
    "df['Category']=df['Rating'].apply(categorizing)\n",
    "print(df)"
   ]
  },
  {
   "cell_type": "code",
   "execution_count": 27,
   "metadata": {},
   "outputs": [
    {
     "name": "stdout",
     "output_type": "stream",
     "text": [
      "    ID     Name Department  Age  Salary  Years_of_experience Joining_Date  \\\n",
      "0  101    Alice         HR   29   50000                    4   2020-03-15   \n",
      "1  102      Bob         IT   34   70000                    8   2017-07-19   \n",
      "2  103  Charlie         IT   41   65000                   10   2013-06-01   \n",
      "3  104    Diana  Marketing   28   55000                    3   2021-02-10   \n",
      "4  105   Edward      Sales   38   60000                   12   2010-11-25   \n",
      "\n",
      "   Gender  Bonus  Rating   Category  \n",
      "0  Female   5000     4.5  Excellect  \n",
      "1    Male   7000     4.0       Good  \n",
      "2    Male   6000     3.8    Average  \n",
      "3  Female   4500     4.7  Excellect  \n",
      "4    Male   5000     3.5    Average  \n"
     ]
    }
   ],
   "source": [
    "#Part-6-i\n",
    "df.rename(columns={\"Employee_Id\":\"ID\"},inplace=True)\n",
    "print(df)"
   ]
  },
  {
   "cell_type": "code",
   "execution_count": 28,
   "metadata": {},
   "outputs": [
    {
     "name": "stdout",
     "output_type": "stream",
     "text": [
      "    ID     Name Department  Age  Salary  Years_of_experience Joining_Date  \\\n",
      "1  102      Bob         IT   34   70000                    8   2017-07-19   \n",
      "2  103  Charlie         IT   41   65000                   10   2013-06-01   \n",
      "4  105   Edward      Sales   38   60000                   12   2010-11-25   \n",
      "\n",
      "  Gender  Bonus  Rating Category  \n",
      "1   Male   7000     4.0     Good  \n",
      "2   Male   6000     3.8  Average  \n",
      "4   Male   5000     3.5  Average  \n",
      "    ID     Name Department  Age  Salary  Years_of_experience Joining_Date  \\\n",
      "1  102      Bob         IT   34   70000                    8   2017-07-19   \n",
      "2  103  Charlie         IT   41   65000                   10   2013-06-01   \n",
      "\n",
      "  Gender  Bonus  Rating Category  \n",
      "1   Male   7000     4.0     Good  \n",
      "2   Male   6000     3.8  Average  \n"
     ]
    }
   ],
   "source": [
    "#Part-6-j\n",
    "#1\n",
    "print(df[df['Years_of_experience']>5])\n",
    "#2\n",
    "print(df[df['Department']==\"IT\"])"
   ]
  },
  {
   "cell_type": "code",
   "execution_count": 29,
   "metadata": {},
   "outputs": [
    {
     "name": "stdout",
     "output_type": "stream",
     "text": [
      "    ID     Name Department  Age   Salary  Years_of_experience Joining_Date  \\\n",
      "0  101    Alice         HR   29  45000.0                    4   2020-03-15   \n",
      "1  102      Bob         IT   34  63000.0                    8   2017-07-19   \n",
      "2  103  Charlie         IT   41  58500.0                   10   2013-06-01   \n",
      "3  104    Diana  Marketing   28  49500.0                    3   2021-02-10   \n",
      "4  105   Edward      Sales   38  54000.0                   12   2010-11-25   \n",
      "\n",
      "   Gender  Bonus  Rating   Category     Tax  \n",
      "0  Female   5000     4.5  Excellect  5000.0  \n",
      "1    Male   7000     4.0       Good  7000.0  \n",
      "2    Male   6000     3.8    Average  6500.0  \n",
      "3  Female   4500     4.7  Excellect  5500.0  \n",
      "4    Male   5000     3.5    Average  6000.0  \n"
     ]
    }
   ],
   "source": [
    "#Part-6-k\n",
    "df['Tax']=0.1*df['Salary']\n",
    "df['Salary']=0.9*df['Salary']\n",
    "print(df)"
   ]
  },
  {
   "cell_type": "code",
   "execution_count": 30,
   "metadata": {},
   "outputs": [],
   "source": [
    "#Part-6-l\n",
    "df.to_csv(\"Employee.csv\",index=False)"
   ]
  }
 ],
 "metadata": {
  "kernelspec": {
   "display_name": "Python 3",
   "language": "python",
   "name": "python3"
  },
  "language_info": {
   "codemirror_mode": {
    "name": "ipython",
    "version": 3
   },
   "file_extension": ".py",
   "mimetype": "text/x-python",
   "name": "python",
   "nbconvert_exporter": "python",
   "pygments_lexer": "ipython3",
   "version": "3.13.1"
  }
 },
 "nbformat": 4,
 "nbformat_minor": 2
}
